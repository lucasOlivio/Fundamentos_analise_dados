{
 "cells": [
  {
   "cell_type": "code",
   "execution_count": 61,
   "metadata": {},
   "outputs": [],
   "source": [
    "# Imports\n",
    "import pandas as pd\n",
    "import numpy as np"
   ]
  },
  {
   "cell_type": "code",
   "execution_count": 96,
   "metadata": {},
   "outputs": [
    {
     "data": {
      "text/html": [
       "<div>\n",
       "<style scoped>\n",
       "    .dataframe tbody tr th:only-of-type {\n",
       "        vertical-align: middle;\n",
       "    }\n",
       "\n",
       "    .dataframe tbody tr th {\n",
       "        vertical-align: top;\n",
       "    }\n",
       "\n",
       "    .dataframe thead th {\n",
       "        text-align: right;\n",
       "    }\n",
       "</style>\n",
       "<table border=\"1\" class=\"dataframe\">\n",
       "  <thead>\n",
       "    <tr style=\"text-align: right;\">\n",
       "      <th></th>\n",
       "      <th>Login</th>\n",
       "      <th>Idade</th>\n",
       "      <th>Sexo</th>\n",
       "      <th>Item ID</th>\n",
       "      <th>Nome do Item</th>\n",
       "      <th>Valor</th>\n",
       "      <th>Compras</th>\n",
       "    </tr>\n",
       "  </thead>\n",
       "  <tbody>\n",
       "    <tr>\n",
       "      <th>0</th>\n",
       "      <td>Aelalis34</td>\n",
       "      <td>38</td>\n",
       "      <td>Masculino</td>\n",
       "      <td>165</td>\n",
       "      <td>Bone Crushing Silver Skewer</td>\n",
       "      <td>3.37</td>\n",
       "      <td>1</td>\n",
       "    </tr>\n",
       "    <tr>\n",
       "      <th>1</th>\n",
       "      <td>Eolo46</td>\n",
       "      <td>21</td>\n",
       "      <td>Masculino</td>\n",
       "      <td>119</td>\n",
       "      <td>Stormbringer, Dark Blade of Ending Misery</td>\n",
       "      <td>2.32</td>\n",
       "      <td>1</td>\n",
       "    </tr>\n",
       "    <tr>\n",
       "      <th>2</th>\n",
       "      <td>Assastnya25</td>\n",
       "      <td>34</td>\n",
       "      <td>Masculino</td>\n",
       "      <td>174</td>\n",
       "      <td>Primitive Blade</td>\n",
       "      <td>2.46</td>\n",
       "      <td>1</td>\n",
       "    </tr>\n",
       "    <tr>\n",
       "      <th>3</th>\n",
       "      <td>Pheusrical25</td>\n",
       "      <td>21</td>\n",
       "      <td>Masculino</td>\n",
       "      <td>92</td>\n",
       "      <td>Final Critic</td>\n",
       "      <td>1.36</td>\n",
       "      <td>1</td>\n",
       "    </tr>\n",
       "    <tr>\n",
       "      <th>4</th>\n",
       "      <td>Aela59</td>\n",
       "      <td>23</td>\n",
       "      <td>Masculino</td>\n",
       "      <td>63</td>\n",
       "      <td>Stormfury Mace</td>\n",
       "      <td>1.27</td>\n",
       "      <td>1</td>\n",
       "    </tr>\n",
       "  </tbody>\n",
       "</table>\n",
       "</div>"
      ],
      "text/plain": [
       "          Login  Idade       Sexo  Item ID  \\\n",
       "0     Aelalis34     38  Masculino      165   \n",
       "1        Eolo46     21  Masculino      119   \n",
       "2   Assastnya25     34  Masculino      174   \n",
       "3  Pheusrical25     21  Masculino       92   \n",
       "4        Aela59     23  Masculino       63   \n",
       "\n",
       "                                Nome do Item  Valor  Compras  \n",
       "0                Bone Crushing Silver Skewer   3.37        1  \n",
       "1  Stormbringer, Dark Blade of Ending Misery   2.32        1  \n",
       "2                            Primitive Blade   2.46        1  \n",
       "3                               Final Critic   1.36        1  \n",
       "4                             Stormfury Mace   1.27        1  "
      ]
     },
     "execution_count": 96,
     "metadata": {},
     "output_type": "execute_result"
    }
   ],
   "source": [
    "# Carrega o arquivo\n",
    "load_file = \"dados_compras.json\"\n",
    "purchase_file = pd.read_json(load_file, orient = \"records\")\n",
    "purchase_file['Compras'] = 1\n",
    "purchase_file.head()"
   ]
  },
  {
   "cell_type": "markdown",
   "metadata": {},
   "source": [
    "## Contagem de Consumidores"
   ]
  },
  {
   "cell_type": "code",
   "execution_count": 174,
   "metadata": {},
   "outputs": [
    {
     "name": "stdout",
     "output_type": "stream",
     "text": [
      "Número total de consumidores: 573\n"
     ]
    },
    {
     "data": {
      "text/html": [
       "<div>\n",
       "<style scoped>\n",
       "    .dataframe tbody tr th:only-of-type {\n",
       "        vertical-align: middle;\n",
       "    }\n",
       "\n",
       "    .dataframe tbody tr th {\n",
       "        vertical-align: top;\n",
       "    }\n",
       "\n",
       "    .dataframe thead th {\n",
       "        text-align: right;\n",
       "    }\n",
       "</style>\n",
       "<table border=\"1\" class=\"dataframe\">\n",
       "  <thead>\n",
       "    <tr style=\"text-align: right;\">\n",
       "      <th></th>\n",
       "      <th>Valor</th>\n",
       "      <th>Compras</th>\n",
       "    </tr>\n",
       "    <tr>\n",
       "      <th>Login</th>\n",
       "      <th></th>\n",
       "      <th></th>\n",
       "    </tr>\n",
       "  </thead>\n",
       "  <tbody>\n",
       "    <tr>\n",
       "      <th>Adairialis76</th>\n",
       "      <td>2.46</td>\n",
       "      <td>1</td>\n",
       "    </tr>\n",
       "    <tr>\n",
       "      <th>Aduephos78</th>\n",
       "      <td>6.70</td>\n",
       "      <td>3</td>\n",
       "    </tr>\n",
       "    <tr>\n",
       "      <th>Aeduera68</th>\n",
       "      <td>5.80</td>\n",
       "      <td>3</td>\n",
       "    </tr>\n",
       "    <tr>\n",
       "      <th>Aela49</th>\n",
       "      <td>2.46</td>\n",
       "      <td>1</td>\n",
       "    </tr>\n",
       "    <tr>\n",
       "      <th>Aela59</th>\n",
       "      <td>1.27</td>\n",
       "      <td>1</td>\n",
       "    </tr>\n",
       "  </tbody>\n",
       "</table>\n",
       "</div>"
      ],
      "text/plain": [
       "              Valor  Compras\n",
       "Login                       \n",
       "Adairialis76   2.46        1\n",
       "Aduephos78     6.70        3\n",
       "Aeduera68      5.80        3\n",
       "Aela49         2.46        1\n",
       "Aela59         1.27        1"
      ]
     },
     "execution_count": 174,
     "metadata": {},
     "output_type": "execute_result"
    }
   ],
   "source": [
    "purchase_grouped = purchase_file.groupby(\"Login\").agg(\n",
    "    {\n",
    "        'Valor': 'sum', \n",
    "        'Compras': 'sum'\n",
    "    }\n",
    ")\n",
    "\n",
    "total_consumers = len(purchase_grouped)\n",
    "\n",
    "print(f'Número total de consumidores: {total_consumers}')\n",
    "\n",
    "purchase_grouped.head()"
   ]
  },
  {
   "cell_type": "markdown",
   "metadata": {},
   "source": [
    "## Análise Geral de Compras"
   ]
  },
  {
   "cell_type": "code",
   "execution_count": 98,
   "metadata": {},
   "outputs": [
    {
     "name": "stdout",
     "output_type": "stream",
     "text": [
      "Número de itens exclusivos: 183\n",
      "Preço médio de compra: R$2.93\n",
      "Número total de compras: 780\n",
      "Rendimento total: R$2286.33\n"
     ]
    }
   ],
   "source": [
    "print(f'Número de itens exclusivos: {len(purchase_file[\"Item ID\"].unique())}')\n",
    "\n",
    "print('Preço médio de compra: R${0:.2f}'.format(purchase_file[\"Valor\"].mean()))\n",
    "total_buys = len(purchase_file)\n",
    "print(f'Número total de compras: {total_buys}')\n",
    "\n",
    "print('Rendimento total: R${0:.2f}'.format(purchase_file[\"Valor\"].sum()))"
   ]
  },
  {
   "cell_type": "markdown",
   "metadata": {},
   "source": [
    "## Informações Demográfica por gênero"
   ]
  },
  {
   "cell_type": "code",
   "execution_count": 99,
   "metadata": {},
   "outputs": [
    {
     "name": "stdout",
     "output_type": "stream",
     "text": [
      "----------------------\n",
      "Compradores Masculino\n",
      "Quantidade: 465\n",
      "Porcentagem: 81.15%\n",
      "----------------------\n",
      "----------------------\n",
      "Compradores Feminino\n",
      "Quantidade: 100\n",
      "Porcentagem: 17.45%\n",
      "----------------------\n",
      "----------------------\n",
      "Compradores Outro / Não Divulgado\n",
      "Quantidade: 8\n",
      "Porcentagem: 1.40%\n",
      "----------------------\n"
     ]
    }
   ],
   "source": [
    "genders_groups = {}\n",
    "\n",
    "def gender_info(gender):\n",
    "    genders_groups[gender] = purchase_file[purchase_file['Sexo'] == gender]\n",
    "    gender_group = genders_groups[gender].groupby(['Login'])\n",
    "    num_gender = len(gender_group)\n",
    "    pct_gender = num_gender / total_consumers\n",
    "    print('----------------------')\n",
    "    print(f'Compradores {gender}')\n",
    "    print(f'Quantidade: {num_gender}')\n",
    "    print('Porcentagem: {0:.2f}%'.format(pct_gender * 100))\n",
    "    print('----------------------')\n",
    "\n",
    "# Male buyer percentage and count\n",
    "gender_info('Masculino')\n",
    "\n",
    "# Female buyer percentage and count\n",
    "gender_info('Feminino')\n",
    "\n",
    "# Other buyer percentage and count\n",
    "gender_info('Outro / Não Divulgado')"
   ]
  },
  {
   "cell_type": "markdown",
   "metadata": {},
   "source": [
    "## Análise de Compras Por Gênero"
   ]
  },
  {
   "cell_type": "code",
   "execution_count": 100,
   "metadata": {},
   "outputs": [
    {
     "name": "stdout",
     "output_type": "stream",
     "text": [
      "----------------------\n",
      "Compradores Masculino\n",
      "Número de compras: 633\n",
      "Preço médio de compra: R$2.95\n",
      "Valor total de compra: R$1867.68\n",
      "Valor de compra [0-10 anos]: R$65.04\n",
      "Valor de compra [10-20 anos]: R$386.36\n",
      "Valor de compra [20-30 anos]: R$1120.68\n",
      "Valor de compra [30-40 anos]: R$249.76\n",
      "Valor de compra [40-50 anos]: R$45.84\n",
      "Valor de compra [50-60 anos]: R$0.00\n",
      "Valor de compra [60-70 anos]: R$0.00\n",
      "Valor de compra [70-80 anos]: R$0.00\n",
      "Valor de compra [80-90 anos]: R$0.00\n",
      "Valor de compra [90-100 anos]: R$0.00\n",
      "----------------------\n",
      "----------------------\n",
      "Compradores Feminino\n",
      "Número de compras: 136\n",
      "Preço médio de compra: R$2.82\n",
      "Valor total de compra: R$382.91\n",
      "Valor de compra [0-10 anos]: R$18.42\n",
      "Valor de compra [10-20 anos]: R$93.01\n",
      "Valor de compra [20-30 anos]: R$210.25\n",
      "Valor de compra [30-40 anos]: R$53.32\n",
      "Valor de compra [40-50 anos]: R$7.91\n",
      "Valor de compra [50-60 anos]: R$0.00\n",
      "Valor de compra [60-70 anos]: R$0.00\n",
      "Valor de compra [70-80 anos]: R$0.00\n",
      "Valor de compra [80-90 anos]: R$0.00\n",
      "Valor de compra [90-100 anos]: R$0.00\n",
      "----------------------\n",
      "----------------------\n",
      "Compradores Outro / Não Divulgado\n",
      "Número de compras: 11\n",
      "Preço médio de compra: R$3.25\n",
      "Valor total de compra: R$35.74\n",
      "Valor de compra [0-10 anos]: R$0.00\n",
      "Valor de compra [10-20 anos]: R$4.00\n",
      "Valor de compra [20-30 anos]: R$18.17\n",
      "Valor de compra [30-40 anos]: R$13.57\n",
      "Valor de compra [40-50 anos]: R$0.00\n",
      "Valor de compra [50-60 anos]: R$0.00\n",
      "Valor de compra [60-70 anos]: R$0.00\n",
      "Valor de compra [70-80 anos]: R$0.00\n",
      "Valor de compra [80-90 anos]: R$0.00\n",
      "Valor de compra [90-100 anos]: R$0.00\n",
      "----------------------\n"
     ]
    }
   ],
   "source": [
    "def gender_analysis(gender):\n",
    "    num_gender_buys = len(purchase_file[purchase_file['Sexo'] ==  gender])\n",
    "    buy_mean_price = len(genders_groups[gender]) / total\n",
    "    print('----------------------')\n",
    "    print(f'Compradores {gender}')\n",
    "    print(f'Número de compras: {len(genders_groups[gender])}')\n",
    "    print('Preço médio de compra: R${0:.2f}'.format(genders_groups[gender][\"Valor\"].mean()))\n",
    "    print('Valor total de compra: R${0:.2f}'.format(genders_groups[gender][\"Valor\"].sum()))\n",
    "    for age in range(10, 110, 10):\n",
    "        age_range = [(age - 10), age]\n",
    "        print('Valor de compra [{0}-{1} anos]: R${2:.2f}'\n",
    "              .format(\n",
    "                  age_range[0], \n",
    "                  age_range[1], \n",
    "                  genders_groups[gender][(genders_groups[gender][\"Idade\"] >= age_range[0]) \n",
    "                                         & (genders_groups[gender][\"Idade\"] < age_range[1])][\"Valor\"].sum()\n",
    "              ))\n",
    "    print('----------------------')\n",
    "\n",
    "# Male buy analysis\n",
    "gender_analysis('Masculino')\n",
    "\n",
    "# Female buy analysis\n",
    "gender_analysis('Feminino')\n",
    "\n",
    "# Other buy analysis\n",
    "gender_analysis('Outro / Não Divulgado')"
   ]
  },
  {
   "cell_type": "markdown",
   "metadata": {},
   "source": [
    "## Consumidores Mais Populares (Top 5)"
   ]
  },
  {
   "cell_type": "code",
   "execution_count": 175,
   "metadata": {},
   "outputs": [
    {
     "name": "stdout",
     "output_type": "stream",
     "text": [
      "             Valor  Compras  Preço médio\n",
      "Login                                   \n",
      "Undirrala66  17.06        5     3.412000\n",
      "Saedue76     13.56        4     3.390000\n",
      "Mindimnya67  12.74        4     3.185000\n",
      "Haellysu29   12.73        3     4.243333\n",
      "Eoda93       11.58        3     3.860000\n"
     ]
    },
    {
     "data": {
      "text/plain": [
       "Item ID\n",
       "84     11\n",
       "39     11\n",
       "31      9\n",
       "34      9\n",
       "175     9\n",
       "Name: Item ID, dtype: int64"
      ]
     },
     "execution_count": 175,
     "metadata": {},
     "output_type": "execute_result"
    }
   ],
   "source": [
    "# Top buyers dataframe\n",
    "purchase_grouped['Preço médio'] = purchase_grouped['Valor'] / purchase_grouped['Compras']\n",
    "\n",
    "top_buyers = purchase_grouped.sort_values('Valor', ascending=False)\n",
    "print(top_buyers.head())\n",
    "\n",
    "top_itens_grouped = purchase_file.groupby(\"Item ID\")['Item ID'].count()\n",
    "\n",
    "# Top itens dataframe\n",
    "top_itens_grouped.sort_values(ascending=False)[:5]"
   ]
  },
  {
   "cell_type": "markdown",
   "metadata": {},
   "source": [
    "## Itens Mais Populares"
   ]
  },
  {
   "cell_type": "code",
   "execution_count": null,
   "metadata": {},
   "outputs": [],
   "source": []
  },
  {
   "cell_type": "markdown",
   "metadata": {},
   "source": [
    "## Itens Mais Lucrativos"
   ]
  },
  {
   "cell_type": "code",
   "execution_count": null,
   "metadata": {},
   "outputs": [],
   "source": []
  }
 ],
 "metadata": {
  "kernelspec": {
   "display_name": "Python 3",
   "language": "python",
   "name": "python3"
  },
  "language_info": {
   "codemirror_mode": {
    "name": "ipython",
    "version": 3
   },
   "file_extension": ".py",
   "mimetype": "text/x-python",
   "name": "python",
   "nbconvert_exporter": "python",
   "pygments_lexer": "ipython3",
   "version": "3.6.9"
  }
 },
 "nbformat": 4,
 "nbformat_minor": 2
}
