{
 "cells": [
  {
   "cell_type": "code",
   "execution_count": 1,
   "metadata": {},
   "outputs": [],
   "source": [
    "%load_ext autotime"
   ]
  },
  {
   "cell_type": "code",
   "execution_count": 20,
   "metadata": {},
   "outputs": [
    {
     "data": {
      "text/plain": [
       "array([862808, 548116, 953358, ..., 516676, 484678, 766601])"
      ]
     },
     "execution_count": 20,
     "metadata": {},
     "output_type": "execute_result"
    },
    {
     "name": "stdout",
     "output_type": "stream",
     "text": [
      "time: 6.24 ms\n"
     ]
    }
   ],
   "source": [
    "import numpy as np\n",
    "\n",
    "randnums = np.random.randint(1,1000000,500000)\n",
    "\n",
    "randnums"
   ]
  },
  {
   "cell_type": "code",
   "execution_count": 9,
   "metadata": {},
   "outputs": [
    {
     "name": "stdout",
     "output_type": "stream",
     "text": [
      "time: 1.33 ms\n"
     ]
    }
   ],
   "source": [
    "class SelectionSort1(object):\n",
    "\n",
    "    def sort(self, data):\n",
    "        for i in range(len(data)):\n",
    "            min_index = i\n",
    "            \n",
    "            for j in range(i+1, len(data)):\n",
    "                if data[min_index] > data[j]:\n",
    "                    min_index = j\n",
    "            \n",
    "            data[i], data[min_index] = data[min_index], data[i]\n",
    "        \n",
    "        return data"
   ]
  },
  {
   "cell_type": "code",
   "execution_count": 21,
   "metadata": {},
   "outputs": [
    {
     "ename": "KeyboardInterrupt",
     "evalue": "",
     "output_type": "error",
     "traceback": [
      "\u001b[0;31m---------------------------------------------------------------------------\u001b[0m",
      "\u001b[0;31mKeyboardInterrupt\u001b[0m                         Traceback (most recent call last)",
      "\u001b[0;32m<ipython-input-21-38ed4204fcb5>\u001b[0m in \u001b[0;36m<module>\u001b[0;34m\u001b[0m\n\u001b[1;32m      1\u001b[0m \u001b[0mselection_sort\u001b[0m \u001b[0;34m=\u001b[0m \u001b[0mSelectionSort1\u001b[0m\u001b[0;34m(\u001b[0m\u001b[0;34m)\u001b[0m\u001b[0;34m\u001b[0m\u001b[0;34m\u001b[0m\u001b[0m\n\u001b[0;32m----> 2\u001b[0;31m \u001b[0mselection_sort\u001b[0m\u001b[0;34m.\u001b[0m\u001b[0msort\u001b[0m\u001b[0;34m(\u001b[0m\u001b[0mrandnums\u001b[0m\u001b[0;34m)\u001b[0m\u001b[0;34m\u001b[0m\u001b[0;34m\u001b[0m\u001b[0m\n\u001b[0m",
      "\u001b[0;32m<ipython-input-9-8f9312b0e167>\u001b[0m in \u001b[0;36msort\u001b[0;34m(self, data)\u001b[0m\n\u001b[1;32m      6\u001b[0m \u001b[0;34m\u001b[0m\u001b[0m\n\u001b[1;32m      7\u001b[0m             \u001b[0;32mfor\u001b[0m \u001b[0mj\u001b[0m \u001b[0;32min\u001b[0m \u001b[0mrange\u001b[0m\u001b[0;34m(\u001b[0m\u001b[0mi\u001b[0m\u001b[0;34m+\u001b[0m\u001b[0;36m1\u001b[0m\u001b[0;34m,\u001b[0m \u001b[0mlen\u001b[0m\u001b[0;34m(\u001b[0m\u001b[0mdata\u001b[0m\u001b[0;34m)\u001b[0m\u001b[0;34m)\u001b[0m\u001b[0;34m:\u001b[0m\u001b[0;34m\u001b[0m\u001b[0;34m\u001b[0m\u001b[0m\n\u001b[0;32m----> 8\u001b[0;31m                 \u001b[0;32mif\u001b[0m \u001b[0mdata\u001b[0m\u001b[0;34m[\u001b[0m\u001b[0mmin_index\u001b[0m\u001b[0;34m]\u001b[0m \u001b[0;34m>\u001b[0m \u001b[0mdata\u001b[0m\u001b[0;34m[\u001b[0m\u001b[0mj\u001b[0m\u001b[0;34m]\u001b[0m\u001b[0;34m:\u001b[0m\u001b[0;34m\u001b[0m\u001b[0;34m\u001b[0m\u001b[0m\n\u001b[0m\u001b[1;32m      9\u001b[0m                     \u001b[0mmin_index\u001b[0m \u001b[0;34m=\u001b[0m \u001b[0mj\u001b[0m\u001b[0;34m\u001b[0m\u001b[0;34m\u001b[0m\u001b[0m\n\u001b[1;32m     10\u001b[0m \u001b[0;34m\u001b[0m\u001b[0m\n",
      "\u001b[0;31mKeyboardInterrupt\u001b[0m: "
     ]
    },
    {
     "name": "stdout",
     "output_type": "stream",
     "text": [
      "time: 1min 48s\n"
     ]
    }
   ],
   "source": [
    "selection_sort = SelectionSort1()\n",
    "selection_sort.sort(randnums)"
   ]
  },
  {
   "cell_type": "code",
   "execution_count": 11,
   "metadata": {},
   "outputs": [
    {
     "name": "stdout",
     "output_type": "stream",
     "text": [
      "time: 4.01 ms\n"
     ]
    }
   ],
   "source": [
    "# Mesma solução mas de formatos diferentes: iterativo, recursivo...\n",
    "class SelectionSort2(object):\n",
    "\n",
    "    def sort(self, data):\n",
    "        if data is None:\n",
    "            raise TypeError('Dados não podem ser None')\n",
    "        if len(data) < 2:\n",
    "            return data\n",
    "        for i in range(len(data) - 1):\n",
    "            min_index = i\n",
    "            for j in range(i + 1, len(data)):\n",
    "                if data[j] < data[min_index]:\n",
    "                    min_index = j\n",
    "            if data[min_index] < data[i]:\n",
    "                data[i], data[min_index] = data[min_index], data[i]\n",
    "        return data\n",
    "\n",
    "    def sort_iterative_alt(self, data):\n",
    "        if data is None:\n",
    "            raise TypeError('Dados não podem ser None')\n",
    "        if len(data) < 2:\n",
    "            return data\n",
    "        for i in range(len(data) - 1):\n",
    "            self._swap(data, i, self._find_min_index(data, i))\n",
    "        return data\n",
    "\n",
    "    def sort_recursive(self, data):\n",
    "        if data is None:\n",
    "            raise TypeError('Dados não podem ser None')\n",
    "        if len(data) < 2:\n",
    "            return data\n",
    "        return self._sort_recursive(data, start=0)\n",
    "\n",
    "    def _sort_recursive(self, data, start):\n",
    "        if data is None:\n",
    "            return\n",
    "        if start < len(data) - 1:\n",
    "            swap(data, start, self._find_min_index(data, start))\n",
    "            self._sort_recursive(data, start + 1)\n",
    "        return data\n",
    "\n",
    "    def _find_min_index(self, data, start):\n",
    "        min_index = start\n",
    "        for i in range(start + 1, len(data)):\n",
    "            if data[i] < data[min_index]:\n",
    "                min_index = i\n",
    "        return min_index\n",
    "\n",
    "    def _swap(self, data, i, j):\n",
    "        if i != j:\n",
    "            data[i], data[j] = data[j], data[i]\n",
    "        return data"
   ]
  },
  {
   "cell_type": "code",
   "execution_count": 19,
   "metadata": {},
   "outputs": [
    {
     "data": {
      "text/plain": [
       "array([   1,    2,    3, ..., 9992, 9995, 9998])"
      ]
     },
     "execution_count": 19,
     "metadata": {},
     "output_type": "execute_result"
    },
    {
     "name": "stdout",
     "output_type": "stream",
     "text": [
      "time: 2.59 s\n"
     ]
    }
   ],
   "source": [
    "selection_sort = SelectionSort2()\n",
    "selection_sort.sort(randnums)"
   ]
  },
  {
   "cell_type": "code",
   "execution_count": 11,
   "metadata": {},
   "outputs": [
    {
     "name": "stdout",
     "output_type": "stream",
     "text": [
      "Overwriting missao4.py\n"
     ]
    }
   ],
   "source": [
    "%%writefile missao4.py\n",
    "from nose.tools import assert_equal, assert_raises\n",
    "\n",
    "\n",
    "class TestSelectionSort(object):\n",
    "\n",
    "    def test_selection_sort(self, func):\n",
    "        print('None input')\n",
    "        assert_raises(TypeError, func, None)\n",
    "\n",
    "        print('Input vazio')\n",
    "        assert_equal(func([]), [])\n",
    "\n",
    "        print('Um elemento')\n",
    "        assert_equal(func([5]), [5])\n",
    "\n",
    "        print('Dois ou mais elementos')\n",
    "        data = [5, 1, 7, 2, 6, -3, 5, 7, -10]\n",
    "        assert_equal(func(data), sorted(data))\n",
    "\n",
    "        print('Sua solução foi executada com sucesso! Parabéns!')\n",
    "\n",
    "\n",
    "def main():\n",
    "    test = TestSelectionSort()\n",
    "    try:\n",
    "        selection_sort = SelectionSort()\n",
    "        test.test_selection_sort(selection_sort.sort)\n",
    "    except NameError:\n",
    "        pass\n",
    "\n",
    "\n",
    "if __name__ == '__main__':\n",
    "    main()"
   ]
  },
  {
   "cell_type": "code",
   "execution_count": 12,
   "metadata": {},
   "outputs": [
    {
     "name": "stdout",
     "output_type": "stream",
     "text": [
      "None input\n",
      "Input vazio\n",
      "Um elemento\n",
      "Dois ou mais elementos\n",
      "Sua solução foi executada com sucesso! Parabéns!\n"
     ]
    }
   ],
   "source": [
    "%run -i missao4.py"
   ]
  },
  {
   "cell_type": "code",
   "execution_count": null,
   "metadata": {},
   "outputs": [],
   "source": []
  }
 ],
 "metadata": {
  "kernelspec": {
   "display_name": "Python 3",
   "language": "python",
   "name": "python3"
  },
  "language_info": {
   "codemirror_mode": {
    "name": "ipython",
    "version": 3
   },
   "file_extension": ".py",
   "mimetype": "text/x-python",
   "name": "python",
   "nbconvert_exporter": "python",
   "pygments_lexer": "ipython3",
   "version": "3.6.9"
  }
 },
 "nbformat": 4,
 "nbformat_minor": 2
}
