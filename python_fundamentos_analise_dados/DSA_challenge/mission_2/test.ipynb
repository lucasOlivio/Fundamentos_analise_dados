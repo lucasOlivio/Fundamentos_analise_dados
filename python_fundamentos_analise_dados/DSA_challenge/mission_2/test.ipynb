{
 "cells": [
  {
   "cell_type": "code",
   "execution_count": 31,
   "metadata": {},
   "outputs": [],
   "source": [
    "class PrimeGenerator(object):\n",
    "\n",
    "    def generate_primes(self, max_num):\n",
    "        self.prime_list = [2, 3, 5, 7]\n",
    "        \n",
    "        cross_list = []\n",
    "        \n",
    "        for i in range(max_num):\n",
    "            cross_list.append(self._cross_off(i))\n",
    "        \n",
    "        return cross_list\n",
    "\n",
    "    def _cross_off(self, prime):\n",
    "        if prime < 2:\n",
    "            return False\n",
    "        \n",
    "        if prime in self.prime_list:\n",
    "            return True\n",
    "\n",
    "        for n in self.prime_list:\n",
    "            quo, mod = divmod(prime, n)\n",
    "\n",
    "            if mod == 0:\n",
    "                return False\n",
    "            elif quo < n:\n",
    "                self.prime_list.append(prime)\n",
    "                return True\n",
    "\n",
    "    def _next_prime(self, array, prime):\n",
    "        # Implemente aqui sua solução\n",
    "        print('Under development')"
   ]
  },
  {
   "cell_type": "code",
   "execution_count": 32,
   "metadata": {},
   "outputs": [
    {
     "name": "stdout",
     "output_type": "stream",
     "text": [
      "Overwriting missao2.py\n"
     ]
    }
   ],
   "source": [
    "%%writefile missao2.py\n",
    "from nose.tools import assert_equal, assert_raises\n",
    "\n",
    "\n",
    "class TestMath(object):\n",
    "\n",
    "    def test_generate_primes(self):\n",
    "        prime_generator = PrimeGenerator()\n",
    "        assert_raises(TypeError, prime_generator.generate_primes, None)\n",
    "        assert_raises(TypeError, prime_generator.generate_primes, 98.6)\n",
    "        assert_equal(prime_generator.generate_primes(20), [False, False, True, \n",
    "                                                           True, False, True, \n",
    "                                                           False, True, False, \n",
    "                                                           False, False, True, \n",
    "                                                           False, True, False, \n",
    "                                                           False, False, True, \n",
    "                                                           False, True])\n",
    "        print('Sua solução foi executada com sucesso! Parabéns!')\n",
    "\n",
    "\n",
    "def main():\n",
    "    test = TestMath()\n",
    "    test.test_generate_primes()\n",
    "\n",
    "\n",
    "if __name__ == '__main__':\n",
    "    main()"
   ]
  },
  {
   "cell_type": "code",
   "execution_count": 33,
   "metadata": {},
   "outputs": [
    {
     "name": "stdout",
     "output_type": "stream",
     "text": [
      "Sua solução foi executada com sucesso! Parabéns!\n"
     ]
    }
   ],
   "source": [
    "%run -i missao2.py"
   ]
  },
  {
   "cell_type": "code",
   "execution_count": null,
   "metadata": {},
   "outputs": [],
   "source": []
  }
 ],
 "metadata": {
  "kernelspec": {
   "display_name": "Python 3",
   "language": "python",
   "name": "python3"
  },
  "language_info": {
   "codemirror_mode": {
    "name": "ipython",
    "version": 3
   },
   "file_extension": ".py",
   "mimetype": "text/x-python",
   "name": "python",
   "nbconvert_exporter": "python",
   "pygments_lexer": "ipython3",
   "version": "3.6.9"
  }
 },
 "nbformat": 4,
 "nbformat_minor": 2
}
